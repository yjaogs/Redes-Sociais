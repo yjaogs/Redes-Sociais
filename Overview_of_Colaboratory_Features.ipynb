{
  "cells": [
    {
      "cell_type": "markdown",
      "metadata": {
        "id": "view-in-github",
        "colab_type": "text"
      },
      "source": [
        "<a href=\"https://colab.research.google.com/github/yjaogs/Redes-Sociais/blob/main/Overview_of_Colaboratory_Features.ipynb\" target=\"_parent\"><img src=\"https://colab.research.google.com/assets/colab-badge.svg\" alt=\"Open In Colab\"/></a>"
      ]
    },
    {
      "cell_type": "code",
      "source": [
        "\n",
        "x = 10\n",
        "nome = 'aluno'\n",
        "nota = 8.75\n",
        "fez_inscricao = True\n",
        "\n",
        "print(type(x))\n",
        "print(type(nome))\n",
        "print(type(nota))\n",
        "print(type(fez_inscricao))"
      ],
      "metadata": {
        "id": "m4vyxc_XaVg1",
        "outputId": "0603e01a-380b-4605-b6af-0874a6ffb226",
        "colab": {
          "base_uri": "https://localhost:8080/"
        }
      },
      "execution_count": 6,
      "outputs": [
        {
          "output_type": "stream",
          "name": "stdout",
          "text": [
            "<class 'int'>\n",
            "<class 'str'>\n",
            "<class 'float'>\n",
            "<class 'bool'>\n"
          ]
        }
      ]
    },
    {
      "cell_type": "code",
      "source": [
        "print(f\"olá (joao), bem vindo a disciplina\")"
      ],
      "metadata": {
        "id": "VnDLMl8FdXKC",
        "outputId": "1e56da48-95dc-4d09-80ae-4d6d1ec2a4d0",
        "colab": {
          "base_uri": "https://localhost:8080/"
        }
      },
      "execution_count": 10,
      "outputs": [
        {
          "output_type": "stream",
          "name": "stdout",
          "text": [
            "olá (joao), bem vindo a disciplina\n"
          ]
        }
      ]
    },
    {
      "cell_type": "code",
      "source": [
        "operacao_3 = 4 / 2 ** 2\n",
        "operacao_4 = 13 % 3 + 4\n",
        "\n",
        "print(f\"resultado em operacao_3 = {operacao_3}\")\n",
        "print(f\"resultado em operacao_4 = {operacao_4}\")\n",
        "\n"
      ],
      "metadata": {
        "id": "b2jyS0qbfdi4",
        "outputId": "3147ca4d-e6fa-4f3a-bcfe-65d2b1e94635",
        "colab": {
          "base_uri": "https://localhost:8080/"
        }
      },
      "execution_count": 14,
      "outputs": [
        {
          "output_type": "stream",
          "name": "stdout",
          "text": [
            "resultado em operacao_3 = 1.0\n",
            "resultado em operacao_4 = 5\n"
          ]
        }
      ]
    },
    {
      "cell_type": "code",
      "source": [
        "a = 2\n",
        "b = 0.5\n",
        "c = 1\n",
        "x = input(\"3:\")\n",
        "\n",
        "x = float(X)\n",
        "\n",
        "y = a * x ** 2 + b * x + c\n",
        "\n",
        "print(f\"O resultado de {x} é {y}.\")"
      ],
      "metadata": {
        "id": "wWPkkFJJhKxL"
      },
      "execution_count": null,
      "outputs": []
    }
  ],
  "metadata": {
    "colab": {
      "name": "Overview of Colaboratory Features",
      "toc_visible": true,
      "provenance": [],
      "include_colab_link": true
    },
    "kernelspec": {
      "display_name": "Python 3",
      "name": "python3"
    }
  },
  "nbformat": 4,
  "nbformat_minor": 0
}